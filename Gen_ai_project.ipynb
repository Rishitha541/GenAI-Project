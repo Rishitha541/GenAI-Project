{
  "nbformat": 4,
  "nbformat_minor": 0,
  "metadata": {
    "colab": {
      "provenance": [],
      "authorship_tag": "ABX9TyPvspSAlYwe5c0nx4bzVEQq",
      "include_colab_link": true
    },
    "kernelspec": {
      "name": "python3",
      "display_name": "Python 3"
    },
    "language_info": {
      "name": "python"
    }
  },
  "cells": [
    {
      "cell_type": "markdown",
      "metadata": {
        "id": "view-in-github",
        "colab_type": "text"
      },
      "source": [
        "<a href=\"https://colab.research.google.com/github/Rishitha541/GenAI-Project/blob/main/Gen_ai_project.ipynb\" target=\"_parent\"><img src=\"https://colab.research.google.com/assets/colab-badge.svg\" alt=\"Open In Colab\"/></a>"
      ]
    },
    {
      "cell_type": "markdown",
      "source": [
        "# Import Libraries"
      ],
      "metadata": {
        "id": "xiPKpNjERokK"
      }
    },
    {
      "cell_type": "code",
      "source": [
        "import pandas as pd\n",
        "import numpy as np\n",
        "from sklearn.preprocessing import MinMaxScaler\n",
        "from sklearn.ensemble import RandomForestRegressor\n",
        "from xgboost import XGBRegressor\n",
        "from sklearn.metrics import mean_squared_error, r2_score\n",
        "from tensorflow.keras.models import Sequential\n",
        "from tensorflow.keras.layers import LSTM, Dense"
      ],
      "metadata": {
        "id": "NRuLGRNnQ863"
      },
      "execution_count": null,
      "outputs": []
    },
    {
      "cell_type": "markdown",
      "source": [
        "# Load Dataset"
      ],
      "metadata": {
        "id": "QZ5myhaZRvpq"
      }
    },
    {
      "cell_type": "code",
      "source": [
        "df = pd.read_csv('/content/cleaned_onion_prices.csv')\n",
        "df['Price Date'] = pd.to_datetime(df['Price Date'])\n",
        "df.set_index('Price Date', inplace=True)"
      ],
      "metadata": {
        "id": "e3o8FIbCQ_5t"
      },
      "execution_count": null,
      "outputs": []
    },
    {
      "cell_type": "markdown",
      "source": [
        "#Sales Prices for LSTM"
      ],
      "metadata": {
        "id": "RYf0OIm-SUgd"
      }
    },
    {
      "cell_type": "code",
      "source": [
        "scaler = MinMaxScaler()\n",
        "df['Scaled_Price'] = scaler.fit_transform(df[['Modal Price']])"
      ],
      "metadata": {
        "id": "0s9ZlHs4RFNm"
      },
      "execution_count": null,
      "outputs": []
    },
    {
      "cell_type": "markdown",
      "source": [
        "# Prepare LSTM data"
      ],
      "metadata": {
        "id": "lNWR_kOMRzaD"
      }
    },
    {
      "cell_type": "code",
      "source": [
        "look_back = 5\n",
        "def create_lstm_dataset(dataset, look_back=1):\n",
        "    X, Y = [], []\n",
        "    for i in range(len(dataset) - look_back):\n",
        "        X.append(dataset[i:(i+look_back), 0])\n",
        "        Y.append(dataset[i + look_back, 0])\n",
        "    return np.array(X), np.array(Y)\n",
        "\n",
        "prices = df['Scaled_Price'].values.reshape(-1, 1)\n",
        "X_lstm_all, y_lstm_all = create_lstm_dataset(prices, look_back)\n",
        "X_lstm_all = X_lstm_all.reshape((X_lstm_all.shape[0], X_lstm_all.shape[1], 1))"
      ],
      "metadata": {
        "id": "_COmlj3rTjFa"
      },
      "execution_count": null,
      "outputs": []
    },
    {
      "cell_type": "markdown",
      "source": [
        "#Split LSTM data"
      ],
      "metadata": {
        "id": "sr4Orj0BTo1g"
      }
    },
    {
      "cell_type": "code",
      "source": [
        "split_idx = int(len(X_lstm_all) * 0.8)\n",
        "X_lstm_train, X_lstm_test = X_lstm_all[:split_idx], X_lstm_all[split_idx:]\n",
        "y_lstm_train, y_lstm_test = y_lstm_all[:split_idx], y_lstm_all[split_idx:]"
      ],
      "metadata": {
        "id": "stAm6Cz8Tzpb"
      },
      "execution_count": null,
      "outputs": []
    },
    {
      "cell_type": "markdown",
      "source": [
        "# Train LSTM"
      ],
      "metadata": {
        "id": "tW3Aox8fT1O7"
      }
    },
    {
      "cell_type": "code",
      "source": [
        "lstm_model = Sequential([\n",
        "    LSTM(50, input_shape=(look_back, 1)),\n",
        "    Dense(1)\n",
        "])\n",
        "lstm_model.compile(optimizer='adam', loss='mean_squared_error')\n",
        "lstm_model.fit(X_lstm_train, y_lstm_train, epochs=50, batch_size=8, verbose=0)"
      ],
      "metadata": {
        "colab": {
          "base_uri": "https://localhost:8080/"
        },
        "id": "VDC0NDBwT3sg",
        "outputId": "abee128a-7c98-4a39-f911-88e7f9644187"
      },
      "execution_count": null,
      "outputs": [
        {
          "output_type": "stream",
          "name": "stderr",
          "text": [
            "/usr/local/lib/python3.11/dist-packages/keras/src/layers/rnn/rnn.py:200: UserWarning: Do not pass an `input_shape`/`input_dim` argument to a layer. When using Sequential models, prefer using an `Input(shape)` object as the first layer in the model instead.\n",
            "  super().__init__(**kwargs)\n"
          ]
        },
        {
          "output_type": "execute_result",
          "data": {
            "text/plain": [
              "<keras.src.callbacks.history.History at 0x7efaae97fb90>"
            ]
          },
          "metadata": {},
          "execution_count": 15
        }
      ]
    },
    {
      "cell_type": "markdown",
      "source": [
        "# Evaluate LSTM"
      ],
      "metadata": {
        "id": "BDRqAx4-T8Bq"
      }
    },
    {
      "cell_type": "code",
      "source": [
        "lstm_preds = lstm_model.predict(X_lstm_test)\n",
        "lstm_preds_rescaled = scaler.inverse_transform(lstm_preds)\n",
        "y_lstm_test_rescaled = scaler.inverse_transform(y_lstm_test.reshape(-1, 1))\n",
        "lstm_rmse = np.sqrt(mean_squared_error(y_lstm_test_rescaled, lstm_preds_rescaled))\n",
        "lstm_r2 = r2_score(y_lstm_test_rescaled, lstm_preds_rescaled)"
      ],
      "metadata": {
        "colab": {
          "base_uri": "https://localhost:8080/"
        },
        "id": "HhFBuaivT-1s",
        "outputId": "e2f4287f-d196-469a-8982-0f72731d00b5"
      },
      "execution_count": null,
      "outputs": [
        {
          "output_type": "stream",
          "name": "stdout",
          "text": [
            "\u001b[1m1/1\u001b[0m \u001b[32m━━━━━━━━━━━━━━━━━━━━\u001b[0m\u001b[37m\u001b[0m \u001b[1m0s\u001b[0m 110ms/step\n"
          ]
        }
      ]
    },
    {
      "cell_type": "markdown",
      "source": [
        "# Prepare data for RF & XGB"
      ],
      "metadata": {
        "id": "Qx5NO2yER4vy"
      }
    },
    {
      "cell_type": "code",
      "source": [
        "df['Day'] = df.index.day\n",
        "df['Month'] = df.index.month\n",
        "df['Year'] = df.index.year\n",
        "X_ml = df[['Day', 'Month', 'Year']]\n",
        "y_ml = df['Modal Price']"
      ],
      "metadata": {
        "id": "wE2-1xWtULM8"
      },
      "execution_count": null,
      "outputs": []
    },
    {
      "cell_type": "markdown",
      "source": [
        "# Split ML data"
      ],
      "metadata": {
        "id": "uOhgrbxbUNwR"
      }
    },
    {
      "cell_type": "code",
      "source": [
        "from sklearn.model_selection import train_test_split\n",
        "X_train, X_test, y_train, y_test = train_test_split(X_ml, y_ml, test_size=0.2, random_state=42)"
      ],
      "metadata": {
        "id": "lH529y0MUQ9v"
      },
      "execution_count": null,
      "outputs": []
    },
    {
      "cell_type": "markdown",
      "source": [
        "# Train and evaluate Random Forest"
      ],
      "metadata": {
        "id": "N4qgMv8HUQdO"
      }
    },
    {
      "cell_type": "code",
      "source": [
        "rf_model = RandomForestRegressor()\n",
        "rf_model.fit(X_train, y_train)\n",
        "rf_preds = rf_model.predict(X_test)\n",
        "rf_rmse = np.sqrt(mean_squared_error(y_test, rf_preds))\n",
        "rf_r2 = r2_score(y_test, rf_preds)"
      ],
      "metadata": {
        "id": "8ILKml-XUVi4"
      },
      "execution_count": null,
      "outputs": []
    },
    {
      "cell_type": "markdown",
      "source": [
        "# Train and evaluate XGBoost"
      ],
      "metadata": {
        "id": "6SvZMHvRUZvK"
      }
    },
    {
      "cell_type": "code",
      "source": [
        "xgb_model = XGBRegressor()\n",
        "xgb_model.fit(X_train, y_train)\n",
        "xgb_preds = xgb_model.predict(X_test)\n",
        "xgb_rmse = np.sqrt(mean_squared_error(y_test, xgb_preds))\n",
        "xgb_r2 = r2_score(y_test, xgb_preds)"
      ],
      "metadata": {
        "id": "qvdcwodmRgps"
      },
      "execution_count": null,
      "outputs": []
    },
    {
      "cell_type": "markdown",
      "source": [
        "# Print evaluation"
      ],
      "metadata": {
        "id": "D3-oWOsdSlWM"
      }
    },
    {
      "cell_type": "code",
      "source": [
        "print(\"\\nModel Evaluation Metrics:\")\n",
        "print(f\"LSTM         - RMSE: {lstm_rmse:.2f}, R² Score: {lstm_r2:.2f}\")\n",
        "print(f\"RandomForest - RMSE: {rf_rmse:.2f}, R² Score: {rf_r2:.2f}\")\n",
        "print(f\"XGBoost      - RMSE: {xgb_rmse:.2f}, R² Score: {xgb_r2:.2f}\")"
      ],
      "metadata": {
        "colab": {
          "base_uri": "https://localhost:8080/"
        },
        "id": "kxskjIAnSi1M",
        "outputId": "88089a81-309c-40ae-f8b4-f17d783af6b0"
      },
      "execution_count": null,
      "outputs": [
        {
          "output_type": "stream",
          "name": "stdout",
          "text": [
            "\n",
            "Model Evaluation Metrics:\n",
            "LSTM         - RMSE: 213.03, R² Score: -0.80\n",
            "RandomForest - RMSE: 157.58, R² Score: 0.99\n",
            "XGBoost      - RMSE: 146.77, R² Score: 0.99\n"
          ]
        }
      ]
    },
    {
      "cell_type": "markdown",
      "source": [
        "# Prediction"
      ],
      "metadata": {
        "id": "uKMcX7LLSuuK"
      }
    },
    {
      "cell_type": "code",
      "source": [
        "def predict_combined_price_for_date(date_str):\n",
        "    try:\n",
        "        target_date = pd.to_datetime(date_str, format='%d-%m-%Y')\n",
        "    except ValueError:\n",
        "        print(\"Invalid date format. Please use DD-MM-YYYY.\")\n",
        "        return\n",
        "        # --- LSTM Prediction ---\n",
        "    last_sequence = prices[-look_back:]\n",
        "    steps = (target_date.year - df.index[-1].year) * 12 + (target_date.month - df.index[-1].month)\n",
        "    if steps < 1 or steps > 36:\n",
        "        lstm_price = None\n",
        "    else:\n",
        "        for _ in range(steps):\n",
        "            input_seq = last_sequence.reshape((1, look_back, 1))\n",
        "            next_pred = lstm_model.predict(input_seq, verbose=0)\n",
        "            last_sequence = np.append(last_sequence[1:], next_pred)\n",
        "        lstm_price = scaler.inverse_transform(next_pred.reshape(-1, 1))[0][0]\n",
        "\n",
        "    # --- RF & XGB ---\n",
        "    ml_features = pd.DataFrame({\n",
        "        'Day': [target_date.day],\n",
        "        'Month': [target_date.month],\n",
        "        'Year': [target_date.year]\n",
        "    })\n",
        "    rf_price = rf_model.predict(ml_features)[0]\n",
        "    xgb_price = xgb_model.predict(ml_features)[0]\n",
        "\n",
        "    # Final Combined Prediction\n",
        "    predictions = [rf_price, xgb_price]\n",
        "    if lstm_price is not None:\n",
        "        predictions.append(lstm_price)\n",
        "\n",
        "    final_price = np.mean(predictions)\n",
        "    print(f\"\\nFinal Predicted Modal Price on {date_str}: Rs. {final_price:.2f}\")"
      ],
      "metadata": {
        "id": "hJA0kWiLSxBj"
      },
      "execution_count": null,
      "outputs": []
    },
    {
      "cell_type": "markdown",
      "source": [
        "# User Input"
      ],
      "metadata": {
        "id": "_lBV2ZMOTCIp"
      }
    },
    {
      "cell_type": "code",
      "source": [
        "user_input = input(\"\\nEnter the date (DD-MM-YYYY): \")\n",
        "predict_combined_price_for_date(user_input)"
      ],
      "metadata": {
        "colab": {
          "base_uri": "https://localhost:8080/"
        },
        "id": "k55ahCnwRjvB",
        "outputId": "78c48ad6-bb0d-4918-e268-1de39d3f28c2"
      },
      "execution_count": null,
      "outputs": [
        {
          "output_type": "stream",
          "name": "stdout",
          "text": [
            "\n",
            "Enter the date (DD-MM-YYYY): 30-01-2027\n",
            "\n",
            "Final Predicted Modal Price on 30-01-2027: Rs. 4774.82\n"
          ]
        }
      ]
    }
  ]
}